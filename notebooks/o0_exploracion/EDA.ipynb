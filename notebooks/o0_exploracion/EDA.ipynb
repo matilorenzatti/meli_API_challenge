{
 "cells": [
  {
   "cell_type": "markdown",
   "id": "a4822e74",
   "metadata": {},
   "source": [
    "## Exploracion de la API\n",
    "\n",
    "---\n",
    "\n",
    "Vamos a explorar un poco la API y como nos retorna los JSON de la misma\n",
    "\n",
    "---"
   ]
  },
  {
   "cell_type": "code",
   "execution_count": 1,
   "id": "6a506d7e",
   "metadata": {},
   "outputs": [],
   "source": [
    "import pandas as pd\n",
    "import requests\n",
    "from meli_project.logic.o1_extraction.api_wb import CurrencyExtractor"
   ]
  },
  {
   "cell_type": "code",
   "execution_count": 2,
   "id": "ce5fa530",
   "metadata": {},
   "outputs": [],
   "source": [
    "currency = CurrencyExtractor()"
   ]
  },
  {
   "cell_type": "code",
   "execution_count": 3,
   "id": "8f16b88e",
   "metadata": {},
   "outputs": [
    {
     "data": {
      "text/plain": [
       "'FIN descarga. ✅ Todos los pares descargados correctamente.'"
      ]
     },
     "execution_count": 3,
     "metadata": {},
     "output_type": "execute_result"
    }
   ],
   "source": [
    "currency.obtener_todos_los_datos()"
   ]
  },
  {
   "cell_type": "code",
   "execution_count": 2,
   "id": "98ee4eda",
   "metadata": {},
   "outputs": [],
   "source": [
    "from meli_project.logic.o2_cleaning.clean_json import DFsCurrencies"
   ]
  },
  {
   "cell_type": "code",
   "execution_count": 3,
   "id": "7ba5ae3c",
   "metadata": {},
   "outputs": [],
   "source": [
    "dfs = DFsCurrencies()"
   ]
  },
  {
   "cell_type": "code",
   "execution_count": 7,
   "id": "ffb04bff",
   "metadata": {},
   "outputs": [],
   "source": [
    "dfs_unificados = dfs.obtener_df_unificado()"
   ]
  },
  {
   "cell_type": "code",
   "execution_count": null,
   "id": "524aed45",
   "metadata": {},
   "outputs": [],
   "source": []
  },
  {
   "cell_type": "code",
   "execution_count": 6,
   "id": "2b5844a9",
   "metadata": {},
   "outputs": [],
   "source": [
    "from meli_project.logic.o3_transformation.transformaciones import CurrencyTransformer"
   ]
  },
  {
   "cell_type": "code",
   "execution_count": 8,
   "id": "b1bbda63",
   "metadata": {},
   "outputs": [],
   "source": [
    "transformador = CurrencyTransformer(dfs_unificados)"
   ]
  },
  {
   "cell_type": "code",
   "execution_count": 9,
   "id": "39f81eb5",
   "metadata": {},
   "outputs": [],
   "source": [
    "transformador.guardar_en_parquet()"
   ]
  },
  {
   "cell_type": "code",
   "execution_count": null,
   "id": "c33f4742",
   "metadata": {},
   "outputs": [],
   "source": []
  },
  {
   "cell_type": "code",
   "execution_count": null,
   "id": "9ee72787",
   "metadata": {},
   "outputs": [],
   "source": []
  },
  {
   "cell_type": "code",
   "execution_count": null,
   "id": "256f98e2",
   "metadata": {},
   "outputs": [],
   "source": []
  }
 ],
 "metadata": {
  "kernelspec": {
   "display_name": "lewagon",
   "language": "python",
   "name": "python3"
  },
  "language_info": {
   "codemirror_mode": {
    "name": "ipython",
    "version": 3
   },
   "file_extension": ".py",
   "mimetype": "text/x-python",
   "name": "python",
   "nbconvert_exporter": "python",
   "pygments_lexer": "ipython3",
   "version": "3.10.6"
  }
 },
 "nbformat": 4,
 "nbformat_minor": 5
}
